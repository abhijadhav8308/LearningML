{
 "cells": [
  {
   "cell_type": "markdown",
   "metadata": {},
   "source": [
    "## Importing the libraries"
   ]
  },
  {
   "cell_type": "code",
   "execution_count": 1,
   "metadata": {},
   "outputs": [],
   "source": [
    "import tensorflow as tf\n",
    "from keras.preprocessing.image import ImageDataGenerator"
   ]
  },
  {
   "cell_type": "code",
   "execution_count": 2,
   "metadata": {},
   "outputs": [
    {
     "data": {
      "text/plain": [
       "'2.5.0'"
      ]
     },
     "execution_count": 2,
     "metadata": {},
     "output_type": "execute_result"
    }
   ],
   "source": [
    "tf.__version__"
   ]
  },
  {
   "cell_type": "markdown",
   "metadata": {},
   "source": [
    "# Data Preprocessing"
   ]
  },
  {
   "cell_type": "markdown",
   "metadata": {},
   "source": [
    "## Preprocessing the Training Data"
   ]
  },
  {
   "cell_type": "code",
   "execution_count": 3,
   "metadata": {},
   "outputs": [
    {
     "name": "stdout",
     "output_type": "stream",
     "text": [
      "Found 8000 images belonging to 2 classes.\n"
     ]
    }
   ],
   "source": [
    "train_datagen = ImageDataGenerator(\n",
    "        rescale=1./255,\n",
    "        shear_range=0.2,\n",
    "        zoom_range=0.2,\n",
    "        horizontal_flip=True)\n",
    "\n",
    "train_set = train_datagen.flow_from_directory(\n",
    "        '../Datasets/CNN_dataset/training_set',\n",
    "        target_size=(64, 64),\n",
    "        batch_size=32,\n",
    "        class_mode='binary')"
   ]
  },
  {
   "cell_type": "markdown",
   "metadata": {},
   "source": [
    "## Preprocessing the Testing Data"
   ]
  },
  {
   "cell_type": "code",
   "execution_count": 4,
   "metadata": {},
   "outputs": [
    {
     "name": "stdout",
     "output_type": "stream",
     "text": [
      "Found 2000 images belonging to 2 classes.\n"
     ]
    }
   ],
   "source": [
    "test_datagen = ImageDataGenerator(rescale=1./255)\n",
    "test_set = test_datagen.flow_from_directory(\n",
    "        '../Datasets/CNN_dataset/test_set',\n",
    "        target_size=(64, 64),\n",
    "        batch_size=32,\n",
    "        class_mode='binary')"
   ]
  },
  {
   "cell_type": "markdown",
   "metadata": {},
   "source": [
    "# Building The CNN"
   ]
  },
  {
   "cell_type": "markdown",
   "metadata": {},
   "source": [
    "## Initializing the CNN"
   ]
  },
  {
   "cell_type": "code",
   "execution_count": 5,
   "metadata": {},
   "outputs": [],
   "source": [
    "cnn = tf.keras.models.Sequential()"
   ]
  },
  {
   "cell_type": "markdown",
   "metadata": {},
   "source": [
    "## Convolution Layer"
   ]
  },
  {
   "cell_type": "code",
   "execution_count": 6,
   "metadata": {},
   "outputs": [],
   "source": [
    "cnn.add(tf.keras.layers.Conv2D(filters=32, kernel_size=3, activation='relu', input_shape=[64,64,3]))"
   ]
  },
  {
   "cell_type": "markdown",
   "metadata": {},
   "source": [
    "## Pooling Layer"
   ]
  },
  {
   "cell_type": "code",
   "execution_count": 7,
   "metadata": {},
   "outputs": [],
   "source": [
    "cnn.add(tf.keras.layers.MaxPool2D(pool_size=2,strides=2))"
   ]
  },
  {
   "cell_type": "markdown",
   "metadata": {},
   "source": [
    "## Adding Another Convolutional Layer"
   ]
  },
  {
   "cell_type": "code",
   "execution_count": 11,
   "metadata": {},
   "outputs": [],
   "source": [
    "cnn.add(tf.keras.layers.Conv2D(filters=32, kernel_size=3, activation='relu'))\n",
    "cnn.add(tf.keras.layers.MaxPool2D(pool_size=2,strides=2))"
   ]
  },
  {
   "cell_type": "markdown",
   "metadata": {},
   "source": [
    "## Flattening Layer"
   ]
  },
  {
   "cell_type": "code",
   "execution_count": 14,
   "metadata": {},
   "outputs": [],
   "source": [
    "cnn.add(tf.keras.layers.Flatten())"
   ]
  },
  {
   "cell_type": "markdown",
   "metadata": {},
   "source": [
    "## Full Connection"
   ]
  },
  {
   "cell_type": "code",
   "execution_count": 15,
   "metadata": {},
   "outputs": [],
   "source": [
    "cnn.add(tf.keras.layers.Dense(units=128, activation='relu'))"
   ]
  },
  {
   "cell_type": "markdown",
   "metadata": {},
   "source": [
    "## Output Layer"
   ]
  },
  {
   "cell_type": "code",
   "execution_count": 16,
   "metadata": {},
   "outputs": [],
   "source": [
    "cnn.add(tf.keras.layers.Dense(units=1, activation='sigmoid'))"
   ]
  },
  {
   "cell_type": "markdown",
   "metadata": {},
   "source": [
    "# Training The CNN"
   ]
  },
  {
   "cell_type": "markdown",
   "metadata": {},
   "source": [
    "## Compiling The CNN "
   ]
  },
  {
   "cell_type": "code",
   "execution_count": 17,
   "metadata": {},
   "outputs": [],
   "source": [
    "cnn.compile(optimizer = 'adam', loss='binary_crossentropy', metrics = ['accuracy'])"
   ]
  },
  {
   "cell_type": "markdown",
   "metadata": {},
   "source": [
    "## Training The CNN On Training Set"
   ]
  },
  {
   "cell_type": "code",
   "execution_count": 18,
   "metadata": {},
   "outputs": [
    {
     "name": "stdout",
     "output_type": "stream",
     "text": [
      "Epoch 1/25\n",
      "250/250 [==============================] - 492s 2s/step - loss: 0.6901 - accuracy: 0.5376 - val_loss: 0.6716 - val_accuracy: 0.6090\n",
      "Epoch 2/25\n",
      "250/250 [==============================] - 51s 204ms/step - loss: 0.6371 - accuracy: 0.6354 - val_loss: 0.6213 - val_accuracy: 0.6525\n",
      "Epoch 3/25\n",
      "250/250 [==============================] - 58s 230ms/step - loss: 0.5893 - accuracy: 0.6881 - val_loss: 0.5688 - val_accuracy: 0.7235\n",
      "Epoch 4/25\n",
      "250/250 [==============================] - 72s 288ms/step - loss: 0.5494 - accuracy: 0.7200 - val_loss: 0.5336 - val_accuracy: 0.7330\n",
      "Epoch 5/25\n",
      "250/250 [==============================] - 55s 218ms/step - loss: 0.5168 - accuracy: 0.7391 - val_loss: 0.5041 - val_accuracy: 0.7535\n",
      "Epoch 6/25\n",
      "250/250 [==============================] - 57s 228ms/step - loss: 0.4928 - accuracy: 0.7586 - val_loss: 0.4752 - val_accuracy: 0.7660\n",
      "Epoch 7/25\n",
      "250/250 [==============================] - 53s 212ms/step - loss: 0.4789 - accuracy: 0.7714 - val_loss: 0.4675 - val_accuracy: 0.7750\n",
      "Epoch 8/25\n",
      "250/250 [==============================] - 94s 377ms/step - loss: 0.4647 - accuracy: 0.7750 - val_loss: 0.4698 - val_accuracy: 0.7715\n",
      "Epoch 9/25\n",
      "250/250 [==============================] - 57s 227ms/step - loss: 0.4382 - accuracy: 0.7965 - val_loss: 0.4633 - val_accuracy: 0.7760\n",
      "Epoch 10/25\n",
      "250/250 [==============================] - 53s 212ms/step - loss: 0.4248 - accuracy: 0.8039 - val_loss: 0.4400 - val_accuracy: 0.7985\n",
      "Epoch 11/25\n",
      "250/250 [==============================] - 55s 219ms/step - loss: 0.4060 - accuracy: 0.8101 - val_loss: 0.4063 - val_accuracy: 0.8090\n",
      "Epoch 12/25\n",
      "250/250 [==============================] - 51s 205ms/step - loss: 0.3920 - accuracy: 0.8175 - val_loss: 0.4019 - val_accuracy: 0.8185\n",
      "Epoch 13/25\n",
      "250/250 [==============================] - 51s 204ms/step - loss: 0.3856 - accuracy: 0.8266 - val_loss: 0.3899 - val_accuracy: 0.8175\n",
      "Epoch 14/25\n",
      "250/250 [==============================] - 49s 196ms/step - loss: 0.3664 - accuracy: 0.8355 - val_loss: 0.4019 - val_accuracy: 0.8180\n",
      "Epoch 15/25\n",
      "250/250 [==============================] - 58s 231ms/step - loss: 0.3598 - accuracy: 0.8410 - val_loss: 0.4292 - val_accuracy: 0.7950\n",
      "Epoch 16/25\n",
      "250/250 [==============================] - 48s 191ms/step - loss: 0.3445 - accuracy: 0.8428 - val_loss: 0.4045 - val_accuracy: 0.8145\n",
      "Epoch 17/25\n",
      "250/250 [==============================] - 49s 195ms/step - loss: 0.3396 - accuracy: 0.8459 - val_loss: 0.3856 - val_accuracy: 0.8365\n",
      "Epoch 18/25\n",
      "250/250 [==============================] - 47s 188ms/step - loss: 0.3245 - accuracy: 0.8604 - val_loss: 0.3818 - val_accuracy: 0.8205\n",
      "Epoch 19/25\n",
      "250/250 [==============================] - 46s 185ms/step - loss: 0.3170 - accuracy: 0.8639 - val_loss: 0.3591 - val_accuracy: 0.8345\n",
      "Epoch 20/25\n",
      "250/250 [==============================] - 47s 186ms/step - loss: 0.2996 - accuracy: 0.8706 - val_loss: 0.3969 - val_accuracy: 0.8200\n",
      "Epoch 21/25\n",
      "250/250 [==============================] - 160s 643ms/step - loss: 0.2919 - accuracy: 0.8720 - val_loss: 0.4006 - val_accuracy: 0.8185\n",
      "Epoch 22/25\n",
      "250/250 [==============================] - 137s 549ms/step - loss: 0.2872 - accuracy: 0.8749 - val_loss: 0.3780 - val_accuracy: 0.8350\n",
      "Epoch 23/25\n",
      "250/250 [==============================] - 45s 179ms/step - loss: 0.2826 - accuracy: 0.8798 - val_loss: 0.4108 - val_accuracy: 0.8285\n",
      "Epoch 24/25\n",
      "250/250 [==============================] - 46s 184ms/step - loss: 0.2700 - accuracy: 0.8856 - val_loss: 0.4120 - val_accuracy: 0.8280\n",
      "Epoch 25/25\n",
      "250/250 [==============================] - 46s 183ms/step - loss: 0.2612 - accuracy: 0.8900 - val_loss: 0.3732 - val_accuracy: 0.8395\n"
     ]
    },
    {
     "data": {
      "text/plain": [
       "<tensorflow.python.keras.callbacks.History at 0x1a0ead04e80>"
      ]
     },
     "execution_count": 18,
     "metadata": {},
     "output_type": "execute_result"
    }
   ],
   "source": [
    "cnn.fit(x = train_set, validation_data = test_set, epochs = 25)"
   ]
  },
  {
   "cell_type": "markdown",
   "metadata": {},
   "source": [
    "## Single Prediction"
   ]
  },
  {
   "cell_type": "code",
   "execution_count": 22,
   "metadata": {},
   "outputs": [
    {
     "data": {
      "text/plain": [
       "{'cats': 0, 'dogs': 1}"
      ]
     },
     "execution_count": 22,
     "metadata": {},
     "output_type": "execute_result"
    }
   ],
   "source": [
    "train_set.class_indices"
   ]
  },
  {
   "cell_type": "code",
   "execution_count": 25,
   "metadata": {},
   "outputs": [
    {
     "name": "stdout",
     "output_type": "stream",
     "text": [
      "It is a cat\n"
     ]
    }
   ],
   "source": [
    "import numpy as np\n",
    "from keras.preprocessing import image\n",
    "test_image = tf.keras.preprocessing.image.load_img(\"../Datasets/CNN_dataset/single_prediction/cat_or_dog_2.jpg\", target_size=(64,64))\n",
    "test_image = image.img_to_array(test_image)\n",
    "test_image = np.expand_dims(test_image, axis = 0)\n",
    "result = cnn.predict(test_image)\n",
    "if result[0][0] == 1:\n",
    "    print(\"It is a dog\")\n",
    "else:\n",
    "    print(\"It is a cat\")"
   ]
  }
 ],
 "metadata": {
  "kernelspec": {
   "display_name": "Python 3",
   "language": "python",
   "name": "python3"
  },
  "language_info": {
   "codemirror_mode": {
    "name": "ipython",
    "version": 3
   },
   "file_extension": ".py",
   "mimetype": "text/x-python",
   "name": "python",
   "nbconvert_exporter": "python",
   "pygments_lexer": "ipython3",
   "version": "3.8.5"
  }
 },
 "nbformat": 4,
 "nbformat_minor": 4
}
